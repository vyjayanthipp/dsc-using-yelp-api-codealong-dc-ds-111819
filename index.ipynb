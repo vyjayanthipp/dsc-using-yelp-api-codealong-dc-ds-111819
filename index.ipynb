{
 "cells": [
  {
   "cell_type": "markdown",
   "metadata": {},
   "source": [
    "# Using the Yelp API - Codealong\n",
    "\n",
    "## Introduction\n",
    "\n",
    "Now that we've discussed HTTP requests and OAuth, it's time to practice applying those skills to a production level API. In this codealong, we'll take you through the process of signing up for an OAuth token and then using that to make requests to the Yelp API!\n",
    "\n",
    "## Objectives\n",
    "\n",
    "You will be able to:\n",
    "\n",
    "* Make requests using OAuth\n",
    "* Use the JSON module to load and parse JSON documents\n",
    "* Convert JSON to a pandas dataframe"
   ]
  },
  {
   "cell_type": "markdown",
   "metadata": {},
   "source": [
    "## Generating Access Tokens\n",
    "\n",
    "As discussed, in order to use many APIs, one needs to use OAuth which requires an access token. As such, our first step will be to generate this login information so that we can start making some requests.  \n",
    "\n",
    "With that, let's go grab an access token from an API site and make some API calls!\n",
    "Point your browser over to this [yelp page](https://www.yelp.com/developers/v3/manage_app) and start creating an app in order to obtain and API access token:\n",
    "\n",
    "![](./images/yelp_app.png)\n",
    "\n",
    "\n",
    "You can either sign in to an existing Yelp account or create a new one if needed.\n",
    "\n",
    "On the page you see above, simply fill out some sample information such as \"Flatiron Edu API Example\" for the app name, or whatever floats your boat. Afterward, you should be presented with an API key that you can use to make requests!\n",
    "\n",
    "With that, let's set up our authentication tokens so that we can start making some API calls!"
   ]
  },
  {
   "cell_type": "markdown",
   "metadata": {},
   "source": [
    "### Should I publicly share my passwords on Github?\n",
    "\n",
    "When using an API that requires an API key and password you should **NEVER** hardcode theses values into your main file. When you upload your project onto github it is completely public and vulnerable to attack. Assume that if you put sensitive information publicly on the internet it will be found and abused. \n",
    "\n",
    "To this end, how can we easily access our API key without opening ourselves up to vulnerabilities?\n",
    "\n",
    "There are many ways to store sensitive information but we will go with this method. "
   ]
  },
  {
   "cell_type": "markdown",
   "metadata": {},
   "source": [
    "#### Move to your home (root) directory:\n",
    "\n",
    "```\n",
    "cd ~\n",
    "```\n",
    "\n",
    "#### Now make the `.secret/` directory:\n",
    "\n",
    "```\n",
    "mkdir .secret\n",
    "```\n",
    "\n",
    "This will create a new folder in your home directory where you can store files for any of the API information you have. \n",
    "\n",
    "Can you find the file you just made in your terminal? \n",
    "NOTE: dot files won't show up with just `ls` you must use the show all command as well `ls -a`\n",
    "\n",
    "\n",
    "#### Move into the newly created `.secret/` folder and create a file using vscode or any text editor to store your yelp API login info.\n",
    "\n",
    "```\n",
    "cd .secret/\n",
    "code yelp_api.json\n",
    "```\n",
    "\n",
    "In this file, let's create a dictionary of values representing the client id and API key that looks something like this:\n",
    "\n",
    "`{\"api_key\": \"input api key here!\"}`\n",
    "\n",
    "NOTE: Double quotes are important! You'll copy and paste the `api_key` value that yelp grants you after you create your app.\n",
    "\n",
    "Ok, so now we have a file in our .secret folder on our home directory. Safe and sound (mostly) from anyone trying to steal our info off github.\n",
    "\n",
    "#### Finally, let's get our client id and API key into our jupyter notebook.\n",
    "\n",
    "If we remember that our file is just a regular JSON file, open the file and pull out the appropriate information from the `~/.secret/yelp_api.json` file. \n"
   ]
  },
  {
   "cell_type": "code",
   "execution_count": 6,
   "metadata": {},
   "outputs": [],
   "source": [
    "import json\n",
    "\n",
    "def get_keys(path):\n",
    "    with open(path) as f:\n",
    "        return json.load(f)"
   ]
  },
  {
   "cell_type": "markdown",
   "metadata": {},
   "source": [
    "> **Note**: Change the file path below to be your root directory. \n",
    "If you're not sure what your username is, check it with `pwd`  \n",
    "For example, my current working directory is ```/Users/matthew.mitchell/Documents/dsc-using-yelp-api-codealong```  \n",
    "So the line below would become:\n",
    "```keys = get_keys(\"/Users/matthew.mitchell/.secret/yelp_api.json\")```"
   ]
  },
  {
   "cell_type": "code",
   "execution_count": 9,
   "metadata": {},
   "outputs": [
    {
     "name": "stdout",
     "output_type": "stream",
     "text": [
      "dHN2Opibz2_WZofBEnEuUdmPof13f1HVRsGaZD2KVdYQGXNPFqCln2ik1KoCkZEO1upPLyrzU1RVHw8oXGRHvn6HgiHw1b0HnyLvkIDU0EO_cA5uJPUSdIiozYDuXXYx\n"
     ]
    }
   ],
   "source": [
    "keys = get_keys(\"/Users/vyju/.secret/yelp_api.json\")\n",
    "\n",
    "api_key = keys['api_key']\n",
    "print(api_key)\n",
    "#While you may wish to print out these API keys to check that they imported properly,\n",
    "#be sure to clear the output before uploading to Github. \n",
    "#Again, you don't want your keys stolen!!!"
   ]
  },
  {
   "cell_type": "markdown",
   "metadata": {},
   "source": [
    "## An Example Request with OAuth <a id=\"oauth_request\"></a>\n",
    "https://www.yelp.com/developers/documentation/v3/get_started\n",
    "\n",
    "In the next lesson, we'll further dissect how to read and translate online documentation like the link here. For now, let's simply look at an example request and dissect it into its constituent parts:"
   ]
  },
  {
   "cell_type": "code",
   "execution_count": 10,
   "metadata": {},
   "outputs": [
    {
     "name": "stdout",
     "output_type": "stream",
     "text": [
      "<Response [200]>\n",
      "<class 'str'>\n",
      "{\"businesses\": [{\"id\": \"jeWIYbgBho9vBDhc5S1xvg\", \"alias\": \"chanos-cantina-astoria\", \"name\": \"Chano's Cantina\", \"image_url\": \"https://s3-media3.fl.yelpcdn.com/bphoto/Di8o5LhA8pEK51sYr2rb2A/o.jpg\", \"is_closed\": false, \"url\": \"https://www.yelp.com/biz/chanos-cantina-astoria?adjust_creative=kWkZUm-CD2bIiWOY0mI9cQ&utm_campaign=yelp_api_v3&utm_medium=api_v3_business_search&utm_source=kWkZUm-CD2bIiWOY0mI9cQ\", \"review_count\": 169, \"categories\": [{\"alias\": \"cocktailbars\", \"title\": \"Cocktail Bars\"}, {\"alias\": \"newmexican\", \"title\": \"New Mexican Cuisine\"}], \"rating\": 4.0, \"coordinates\": {\"latitude\": 40.756621, \"longitude\": -73.929336}, \"transactions\": [\"restaurant_reservation\", \"delivery\", \"pickup\"], \"price\": \"$$\", \"location\": {\"address1\": \"35-55 31st\", \"address2\": \"\", \"address3\": \"\", \"city\": \"Astoria\", \"zip_code\": \"11106\", \"country\": \"US\", \"state\": \"NY\", \"display_address\": [\"35-55 31st\", \"Astoria, NY 11106\"]}, \"phone\": \"+19178327261\", \"display_phone\": \"(917) 832-7261\", \"distance\": 1290.427487513\n"
     ]
    }
   ],
   "source": [
    "import requests\n",
    "term = 'Mexican'\n",
    "location = 'Astoria NY'\n",
    "SEARCH_LIMIT = 10\n",
    "\n",
    "url = 'https://api.yelp.com/v3/businesses/search'\n",
    "\n",
    "headers = {\n",
    "        'Authorization': 'Bearer {}'.format(api_key),\n",
    "    }\n",
    "\n",
    "url_params = {\n",
    "                'term': term.replace(' ', '+'),\n",
    "                'location': location.replace(' ', '+'),\n",
    "                'limit': SEARCH_LIMIT\n",
    "            }\n",
    "response = requests.get(url, headers=headers, params=url_params)\n",
    "print(response)\n",
    "print(type(response.text))\n",
    "print(response.text[:1000])"
   ]
  },
  {
   "cell_type": "markdown",
   "metadata": {},
   "source": [
    "## Breaking Down the Request\n",
    "\n",
    "As you can see, there are three main parts to our request.  \n",
    "  \n",
    "They are:\n",
    "* The URL\n",
    "* The header\n",
    "* The parameters\n",
    "  \n",
    "The URL is fairly straightforward and is simply the base URL as described in the documentation (again more details in the upcoming lesson).\n",
    "\n",
    "The header is a dictionary of key-value pairs. In this case, we are using a fairly standard header used by many APIs. It has a strict form where 'Authorization' is the key and 'Bearer YourApiKey' is the value.\n",
    "\n",
    "The parameters are the filters that we wish to pass into the query. These will be embedded into the URL when the request is made to the API. Similar to the header, they form key-value pairs. Valid key parameters by which to structure your queries are described in the API documentation which we'll look at further shortly. A final important note, however, is the need to replace spaces with \"+\". This is standard to many requests as URLs cannot contain spaces. (Note that the header itself isn't directly embedded into the URL itself and as such, the space between 'Bearer' and YourApiKey is valid.)\n"
   ]
  },
  {
   "cell_type": "markdown",
   "metadata": {},
   "source": [
    "## The Response\n",
    "\n",
    "As before, our response object has both a status code, as well as the data itself. With that, let's start with a little data exploration!"
   ]
  },
  {
   "cell_type": "code",
   "execution_count": 12,
   "metadata": {},
   "outputs": [
    {
     "data": {
      "text/plain": [
       "dict_keys(['businesses', 'total', 'region'])"
      ]
     },
     "execution_count": 12,
     "metadata": {},
     "output_type": "execute_result"
    }
   ],
   "source": [
    "response.json().keys()"
   ]
  },
  {
   "cell_type": "markdown",
   "metadata": {},
   "source": [
    "Now let's go a bit further and start to preview what's stored in each of the values for these keys."
   ]
  },
  {
   "cell_type": "code",
   "execution_count": 15,
   "metadata": {},
   "outputs": [
    {
     "name": "stdout",
     "output_type": "stream",
     "text": [
      "businesses\n",
      "<class 'list'>\n",
      "\n",
      "\n",
      "\n",
      "total\n",
      "<class 'int'>\n",
      "\n",
      "\n",
      "\n",
      "region\n",
      "<class 'dict'>\n",
      "\n",
      "\n",
      "\n"
     ]
    }
   ],
   "source": [
    "for key in response.json().keys():\n",
    "    print(key)\n",
    "    value = response.json()[key] #Use standard dictionary formatting\n",
    "    print(type(value)) #What type is it?\n",
    "    print('\\n\\n') #Separate out data"
   ]
  },
  {
   "cell_type": "markdown",
   "metadata": {},
   "source": [
    "Let's continue to preview these further to get a little better acquainted."
   ]
  },
  {
   "cell_type": "code",
   "execution_count": 16,
   "metadata": {},
   "outputs": [
    {
     "data": {
      "text/plain": [
       "[{'id': 'jeWIYbgBho9vBDhc5S1xvg',\n",
       "  'alias': 'chanos-cantina-astoria',\n",
       "  'name': \"Chano's Cantina\",\n",
       "  'image_url': 'https://s3-media3.fl.yelpcdn.com/bphoto/Di8o5LhA8pEK51sYr2rb2A/o.jpg',\n",
       "  'is_closed': False,\n",
       "  'url': 'https://www.yelp.com/biz/chanos-cantina-astoria?adjust_creative=kWkZUm-CD2bIiWOY0mI9cQ&utm_campaign=yelp_api_v3&utm_medium=api_v3_business_search&utm_source=kWkZUm-CD2bIiWOY0mI9cQ',\n",
       "  'review_count': 169,\n",
       "  'categories': [{'alias': 'cocktailbars', 'title': 'Cocktail Bars'},\n",
       "   {'alias': 'newmexican', 'title': 'New Mexican Cuisine'}],\n",
       "  'rating': 4.0,\n",
       "  'coordinates': {'latitude': 40.756621, 'longitude': -73.929336},\n",
       "  'transactions': ['restaurant_reservation', 'delivery', 'pickup'],\n",
       "  'price': '$$',\n",
       "  'location': {'address1': '35-55 31st',\n",
       "   'address2': '',\n",
       "   'address3': '',\n",
       "   'city': 'Astoria',\n",
       "   'zip_code': '11106',\n",
       "   'country': 'US',\n",
       "   'state': 'NY',\n",
       "   'display_address': ['35-55 31st', 'Astoria, NY 11106']},\n",
       "  'phone': '+19178327261',\n",
       "  'display_phone': '(917) 832-7261',\n",
       "  'distance': 1290.4274875130448},\n",
       " {'id': '6AJwsgXr7YwsqneGVAdgzw',\n",
       "  'alias': 'las-catrinas-mexican-bar-and-eatery-astoria',\n",
       "  'name': 'Las Catrinas Mexican Bar & Eatery',\n",
       "  'image_url': 'https://s3-media3.fl.yelpcdn.com/bphoto/3uevye47llEi-lAXf5RYPw/o.jpg',\n",
       "  'is_closed': False,\n",
       "  'url': 'https://www.yelp.com/biz/las-catrinas-mexican-bar-and-eatery-astoria?adjust_creative=kWkZUm-CD2bIiWOY0mI9cQ&utm_campaign=yelp_api_v3&utm_medium=api_v3_business_search&utm_source=kWkZUm-CD2bIiWOY0mI9cQ',\n",
       "  'review_count': 303,\n",
       "  'categories': [{'alias': 'mexican', 'title': 'Mexican'},\n",
       "   {'alias': 'cocktailbars', 'title': 'Cocktail Bars'}],\n",
       "  'rating': 4.0,\n",
       "  'coordinates': {'latitude': 40.7614214682633,\n",
       "   'longitude': -73.9246649456171},\n",
       "  'transactions': ['delivery', 'pickup'],\n",
       "  'price': '$$',\n",
       "  'location': {'address1': '32-02 Broadway',\n",
       "   'address2': '',\n",
       "   'address3': None,\n",
       "   'city': 'Astoria',\n",
       "   'zip_code': '11106',\n",
       "   'country': 'US',\n",
       "   'state': 'NY',\n",
       "   'display_address': ['32-02 Broadway', 'Astoria, NY 11106']},\n",
       "  'phone': '+19177450969',\n",
       "  'display_phone': '(917) 745-0969',\n",
       "  'distance': 642.5257707161409}]"
      ]
     },
     "execution_count": 16,
     "metadata": {},
     "output_type": "execute_result"
    }
   ],
   "source": [
    "response.json()['businesses'][:2]"
   ]
  },
  {
   "cell_type": "code",
   "execution_count": 17,
   "metadata": {},
   "outputs": [
    {
     "data": {
      "text/plain": [
       "679"
      ]
     },
     "execution_count": 17,
     "metadata": {},
     "output_type": "execute_result"
    }
   ],
   "source": [
    "response.json()['total']"
   ]
  },
  {
   "cell_type": "code",
   "execution_count": 18,
   "metadata": {},
   "outputs": [
    {
     "data": {
      "text/plain": [
       "{'center': {'longitude': -73.92219543457031, 'latitude': 40.76688875374591}}"
      ]
     },
     "execution_count": 18,
     "metadata": {},
     "output_type": "execute_result"
    }
   ],
   "source": [
    "response.json()['region']"
   ]
  },
  {
   "cell_type": "markdown",
   "metadata": {},
   "source": [
    "As you can see, we're primarily interested in the 'businesses' entry. \n",
    "\n",
    "Let's go ahead and create a dataframe from that."
   ]
  },
  {
   "cell_type": "code",
   "execution_count": 20,
   "metadata": {},
   "outputs": [
    {
     "name": "stdout",
     "output_type": "stream",
     "text": [
      "10\n",
      "Index(['id', 'alias', 'name', 'image_url', 'is_closed', 'url', 'review_count',\n",
      "       'categories', 'rating', 'coordinates', 'transactions', 'price',\n",
      "       'location', 'phone', 'display_phone', 'distance'],\n",
      "      dtype='object')\n"
     ]
    },
    {
     "data": {
      "text/html": [
       "<div>\n",
       "<style scoped>\n",
       "    .dataframe tbody tr th:only-of-type {\n",
       "        vertical-align: middle;\n",
       "    }\n",
       "\n",
       "    .dataframe tbody tr th {\n",
       "        vertical-align: top;\n",
       "    }\n",
       "\n",
       "    .dataframe thead th {\n",
       "        text-align: right;\n",
       "    }\n",
       "</style>\n",
       "<table border=\"1\" class=\"dataframe\">\n",
       "  <thead>\n",
       "    <tr style=\"text-align: right;\">\n",
       "      <th></th>\n",
       "      <th>id</th>\n",
       "      <th>alias</th>\n",
       "      <th>name</th>\n",
       "      <th>image_url</th>\n",
       "      <th>is_closed</th>\n",
       "      <th>url</th>\n",
       "      <th>review_count</th>\n",
       "      <th>categories</th>\n",
       "      <th>rating</th>\n",
       "      <th>coordinates</th>\n",
       "      <th>transactions</th>\n",
       "      <th>price</th>\n",
       "      <th>location</th>\n",
       "      <th>phone</th>\n",
       "      <th>display_phone</th>\n",
       "      <th>distance</th>\n",
       "    </tr>\n",
       "  </thead>\n",
       "  <tbody>\n",
       "    <tr>\n",
       "      <td>0</td>\n",
       "      <td>jeWIYbgBho9vBDhc5S1xvg</td>\n",
       "      <td>chanos-cantina-astoria</td>\n",
       "      <td>Chano's Cantina</td>\n",
       "      <td>https://s3-media3.fl.yelpcdn.com/bphoto/Di8o5L...</td>\n",
       "      <td>False</td>\n",
       "      <td>https://www.yelp.com/biz/chanos-cantina-astori...</td>\n",
       "      <td>169</td>\n",
       "      <td>[{'alias': 'cocktailbars', 'title': 'Cocktail ...</td>\n",
       "      <td>4.0</td>\n",
       "      <td>{'latitude': 40.756621, 'longitude': -73.929336}</td>\n",
       "      <td>[restaurant_reservation, delivery, pickup]</td>\n",
       "      <td>$$</td>\n",
       "      <td>{'address1': '35-55 31st', 'address2': '', 'ad...</td>\n",
       "      <td>+19178327261</td>\n",
       "      <td>(917) 832-7261</td>\n",
       "      <td>1290.427488</td>\n",
       "    </tr>\n",
       "    <tr>\n",
       "      <td>1</td>\n",
       "      <td>6AJwsgXr7YwsqneGVAdgzw</td>\n",
       "      <td>las-catrinas-mexican-bar-and-eatery-astoria</td>\n",
       "      <td>Las Catrinas Mexican Bar &amp; Eatery</td>\n",
       "      <td>https://s3-media3.fl.yelpcdn.com/bphoto/3uevye...</td>\n",
       "      <td>False</td>\n",
       "      <td>https://www.yelp.com/biz/las-catrinas-mexican-...</td>\n",
       "      <td>303</td>\n",
       "      <td>[{'alias': 'mexican', 'title': 'Mexican'}, {'a...</td>\n",
       "      <td>4.0</td>\n",
       "      <td>{'latitude': 40.7614214682633, 'longitude': -7...</td>\n",
       "      <td>[delivery, pickup]</td>\n",
       "      <td>$$</td>\n",
       "      <td>{'address1': '32-02 Broadway', 'address2': '',...</td>\n",
       "      <td>+19177450969</td>\n",
       "      <td>(917) 745-0969</td>\n",
       "      <td>642.525771</td>\n",
       "    </tr>\n",
       "    <tr>\n",
       "      <td>2</td>\n",
       "      <td>jzVv_21473lAMYXIhVbuTA</td>\n",
       "      <td>de-mole-astoria-astoria</td>\n",
       "      <td>De Mole Astoria</td>\n",
       "      <td>https://s3-media4.fl.yelpcdn.com/bphoto/w56szE...</td>\n",
       "      <td>False</td>\n",
       "      <td>https://www.yelp.com/biz/de-mole-astoria-astor...</td>\n",
       "      <td>364</td>\n",
       "      <td>[{'alias': 'mexican', 'title': 'Mexican'}]</td>\n",
       "      <td>4.0</td>\n",
       "      <td>{'latitude': 40.7625999, 'longitude': -73.9129...</td>\n",
       "      <td>[delivery, pickup]</td>\n",
       "      <td>$$</td>\n",
       "      <td>{'address1': '4220 30th Ave', 'address2': '', ...</td>\n",
       "      <td>+17187771655</td>\n",
       "      <td>(718) 777-1655</td>\n",
       "      <td>915.607446</td>\n",
       "    </tr>\n",
       "    <tr>\n",
       "      <td>3</td>\n",
       "      <td>2jjxdN9FXWVdx6DEX83krQ</td>\n",
       "      <td>hoja-santa-astoria</td>\n",
       "      <td>Hoja Santa</td>\n",
       "      <td>https://s3-media3.fl.yelpcdn.com/bphoto/xqo13E...</td>\n",
       "      <td>False</td>\n",
       "      <td>https://www.yelp.com/biz/hoja-santa-astoria?ad...</td>\n",
       "      <td>33</td>\n",
       "      <td>[{'alias': 'newmexican', 'title': 'New Mexican...</td>\n",
       "      <td>4.5</td>\n",
       "      <td>{'latitude': 40.7638197, 'longitude': -73.914523}</td>\n",
       "      <td>[]</td>\n",
       "      <td>NaN</td>\n",
       "      <td>{'address1': '40-17 30th Ave', 'address2': '',...</td>\n",
       "      <td></td>\n",
       "      <td></td>\n",
       "      <td>751.531469</td>\n",
       "    </tr>\n",
       "    <tr>\n",
       "      <td>4</td>\n",
       "      <td>4cVajR3KnJh7cK9u_TiBAQ</td>\n",
       "      <td>orale-mexican-food-astoria-2</td>\n",
       "      <td>Orale mexican food</td>\n",
       "      <td>https://s3-media4.fl.yelpcdn.com/bphoto/534NEW...</td>\n",
       "      <td>False</td>\n",
       "      <td>https://www.yelp.com/biz/orale-mexican-food-as...</td>\n",
       "      <td>2</td>\n",
       "      <td>[{'alias': 'mexican', 'title': 'Mexican'}]</td>\n",
       "      <td>4.5</td>\n",
       "      <td>{'latitude': 40.770261, 'longitude': -73.918361}</td>\n",
       "      <td>[delivery, pickup]</td>\n",
       "      <td>NaN</td>\n",
       "      <td>{'address1': '30-19 Astoria Blvd', 'address2':...</td>\n",
       "      <td>+19173961753</td>\n",
       "      <td>(917) 396-1753</td>\n",
       "      <td>494.852946</td>\n",
       "    </tr>\n",
       "  </tbody>\n",
       "</table>\n",
       "</div>"
      ],
      "text/plain": [
       "                       id                                        alias  \\\n",
       "0  jeWIYbgBho9vBDhc5S1xvg                       chanos-cantina-astoria   \n",
       "1  6AJwsgXr7YwsqneGVAdgzw  las-catrinas-mexican-bar-and-eatery-astoria   \n",
       "2  jzVv_21473lAMYXIhVbuTA                      de-mole-astoria-astoria   \n",
       "3  2jjxdN9FXWVdx6DEX83krQ                           hoja-santa-astoria   \n",
       "4  4cVajR3KnJh7cK9u_TiBAQ                 orale-mexican-food-astoria-2   \n",
       "\n",
       "                                name  \\\n",
       "0                    Chano's Cantina   \n",
       "1  Las Catrinas Mexican Bar & Eatery   \n",
       "2                    De Mole Astoria   \n",
       "3                         Hoja Santa   \n",
       "4                 Orale mexican food   \n",
       "\n",
       "                                           image_url  is_closed  \\\n",
       "0  https://s3-media3.fl.yelpcdn.com/bphoto/Di8o5L...      False   \n",
       "1  https://s3-media3.fl.yelpcdn.com/bphoto/3uevye...      False   \n",
       "2  https://s3-media4.fl.yelpcdn.com/bphoto/w56szE...      False   \n",
       "3  https://s3-media3.fl.yelpcdn.com/bphoto/xqo13E...      False   \n",
       "4  https://s3-media4.fl.yelpcdn.com/bphoto/534NEW...      False   \n",
       "\n",
       "                                                 url  review_count  \\\n",
       "0  https://www.yelp.com/biz/chanos-cantina-astori...           169   \n",
       "1  https://www.yelp.com/biz/las-catrinas-mexican-...           303   \n",
       "2  https://www.yelp.com/biz/de-mole-astoria-astor...           364   \n",
       "3  https://www.yelp.com/biz/hoja-santa-astoria?ad...            33   \n",
       "4  https://www.yelp.com/biz/orale-mexican-food-as...             2   \n",
       "\n",
       "                                          categories  rating  \\\n",
       "0  [{'alias': 'cocktailbars', 'title': 'Cocktail ...     4.0   \n",
       "1  [{'alias': 'mexican', 'title': 'Mexican'}, {'a...     4.0   \n",
       "2         [{'alias': 'mexican', 'title': 'Mexican'}]     4.0   \n",
       "3  [{'alias': 'newmexican', 'title': 'New Mexican...     4.5   \n",
       "4         [{'alias': 'mexican', 'title': 'Mexican'}]     4.5   \n",
       "\n",
       "                                         coordinates  \\\n",
       "0   {'latitude': 40.756621, 'longitude': -73.929336}   \n",
       "1  {'latitude': 40.7614214682633, 'longitude': -7...   \n",
       "2  {'latitude': 40.7625999, 'longitude': -73.9129...   \n",
       "3  {'latitude': 40.7638197, 'longitude': -73.914523}   \n",
       "4   {'latitude': 40.770261, 'longitude': -73.918361}   \n",
       "\n",
       "                                 transactions price  \\\n",
       "0  [restaurant_reservation, delivery, pickup]    $$   \n",
       "1                          [delivery, pickup]    $$   \n",
       "2                          [delivery, pickup]    $$   \n",
       "3                                          []   NaN   \n",
       "4                          [delivery, pickup]   NaN   \n",
       "\n",
       "                                            location         phone  \\\n",
       "0  {'address1': '35-55 31st', 'address2': '', 'ad...  +19178327261   \n",
       "1  {'address1': '32-02 Broadway', 'address2': '',...  +19177450969   \n",
       "2  {'address1': '4220 30th Ave', 'address2': '', ...  +17187771655   \n",
       "3  {'address1': '40-17 30th Ave', 'address2': '',...                 \n",
       "4  {'address1': '30-19 Astoria Blvd', 'address2':...  +19173961753   \n",
       "\n",
       "    display_phone     distance  \n",
       "0  (917) 832-7261  1290.427488  \n",
       "1  (917) 745-0969   642.525771  \n",
       "2  (718) 777-1655   915.607446  \n",
       "3                   751.531469  \n",
       "4  (917) 396-1753   494.852946  "
      ]
     },
     "execution_count": 20,
     "metadata": {},
     "output_type": "execute_result"
    }
   ],
   "source": [
    "import pandas as pd\n",
    "\n",
    "df = pd.DataFrame.from_dict(response.json()['businesses'])\n",
    "\n",
    "print(len(df)) #Print how many rows\n",
    "print(df.columns) #Print column names\n",
    "df.head() #Previews the first five rows. \n",
    "#You could also write df.head(10) to preview 10 rows or df.tail() to see the bottom"
   ]
  },
  {
   "cell_type": "markdown",
   "metadata": {},
   "source": [
    "## Summary <a id=\"sum\"></a>\n",
    "\n",
    "Congratulations! We've covered a lot here! We took some of your previous knowledge with HTTP requests and OAuth in order to leverage an enterprise API! Then we made some requests to retrieve information that came back as a JSON format. We then transformed this data into a dataframe using the Pandas package. In the next lab, we'll break down how to read API documentation!"
   ]
  }
 ],
 "metadata": {
  "kernelspec": {
   "display_name": "Python 3",
   "language": "python",
   "name": "python3"
  },
  "language_info": {
   "codemirror_mode": {
    "name": "ipython",
    "version": 3
   },
   "file_extension": ".py",
   "mimetype": "text/x-python",
   "name": "python",
   "nbconvert_exporter": "python",
   "pygments_lexer": "ipython3",
   "version": "3.7.4"
  },
  "toc": {
   "base_numbering": 1,
   "nav_menu": {},
   "number_sections": true,
   "sideBar": true,
   "skip_h1_title": false,
   "title_cell": "Table of Contents",
   "title_sidebar": "Contents",
   "toc_cell": false,
   "toc_position": {},
   "toc_section_display": true,
   "toc_window_display": false
  }
 },
 "nbformat": 4,
 "nbformat_minor": 2
}
